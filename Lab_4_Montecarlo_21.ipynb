{
  "nbformat": 4,
  "nbformat_minor": 0,
  "metadata": {
    "colab": {
      "name": "Lab 4 Montecarlo 21.ipynb",
      "provenance": [],
      "collapsed_sections": []
    },
    "kernelspec": {
      "name": "python3",
      "display_name": "Python 3"
    }
  },
  "cells": [
    {
      "cell_type": "code",
      "metadata": {
        "id": "T7IKNDkVsBJu"
      },
      "source": [
        "import random as r\n",
        "import copy\n",
        "import matplotlib.pyplot as plt\n",
        "\n",
        "pokerDeck = [\n",
        "                    1, 2, 3, 4, 5, 6, 7, 8, 9, 10, 11, 12, 13,\n",
        "                    1, 2, 3, 4, 5, 6, 7, 8, 9, 10, 11, 12, 13,\n",
        "                    1, 2, 3, 4, 5, 6, 7, 8, 9, 10, 11, 12, 13,\n",
        "                    1, 2, 3, 4, 5, 6, 7, 8, 9, 10, 11, 12, 13\n",
        "                ]\n",
        "\n",
        "spanishDeck = [\n",
        "            1, 2, 3, 4, 5, 6, 7, 8, 9, 10, 11, 12,\n",
        "            1, 2, 3, 4, 5, 6, 7, 8, 9, 10, 11, 12,\n",
        "            1, 2, 3, 4, 5, 6, 7, 8, 9, 10, 11, 12,\n",
        "            1, 2, 3, 4, 5, 6, 7, 8, 9, 10, 11, 12\n",
        "        ]\n",
        "def nothing(deck):\n",
        "    return deck\n",
        "\n",
        "def n_card_games(n, origin_deck, hand=[], funky= nothing):\n",
        "    count = 0\n",
        "    average = 0\n",
        "    success = []\n",
        "    \n",
        "    for i in range(n):\n",
        "        deck = copy.deepcopy(origin_deck)\n",
        "        deck = funky(deck)\n",
        "        drawCards = copy.deepcopy(hand)\n",
        "        nc = 0\n",
        "        while sum(drawCards) < 21:\n",
        "            currentCard = r.choice(deck)\n",
        "            drawCards.append(currentCard)\n",
        "            deck.remove(currentCard)\n",
        "            nc = nc + 1\n",
        "\n",
        "        if sum(drawCards) == 21:\n",
        "            count = count + 1\n",
        "            average = average + nc\n",
        "            success.append(nc)\n",
        "\n",
        "    print(\"21 Probability: \", count/n, \"Average number of cards: \", 0 if(count == 0) else average/count)\n",
        "    \n",
        "    plt.hist(success, bins=15, align= 'mid')\n",
        "    plt.xlabel('Number of cards')\n",
        "    plt.ylabel('Number of success')\n",
        "    plt.title(r'Experimental distribution')\n",
        "    plt.show()"
      ],
      "execution_count": null,
      "outputs": []
    },
    {
      "cell_type": "markdown",
      "metadata": {
        "id": "ddxEgB2j2RNQ"
      },
      "source": [
        "<h2>1.</h2>\n",
        "Estimate the probability of getting a 21, the average number of cards required to complete 21 and plot the experimental distribution of the number of card required to complete 21 drawing cards sequentially from a shuffled Spanish 48-card deck with card values [1,2,3,4,5,6,7,10,11,12,1,2,3,4,5,6,7,8,9,10,11,12,1,2,3,4,5,6,7,8,9,10,11,12,1,2,3,4,5,6,7,8,9,10,11,12] and from a shuffled Poker 52-card with card values [1,2,3,4,5,6,7,8,9,10,11,12,13,1,2,3,4,5,6,7,8,9,10,11,12,13,1,2,3,4,5,6,7,8,9,10,11,12,13,1,2,3,4,5,6,7,8,9,10,11,12,13] using Montecarlo with 10 millions simulations."
      ]
    },
    {
      "cell_type": "code",
      "metadata": {
        "id": "5b6HouKwxFwg",
        "outputId": "d614f63f-2905-4106-8552-cecfa285b7ef",
        "colab": {
          "base_uri": "https://localhost:8080/",
          "height": 312
        }
      },
      "source": [
        "n = 10000\n",
        "n_card_games(n,pokerDeck)"
      ],
      "execution_count": null,
      "outputs": [
        {
          "output_type": "stream",
          "text": [
            "21 Probability:  0.1478 Average number of cards:  3.191474966170501\n"
          ],
          "name": "stdout"
        },
        {
          "output_type": "display_data",
          "data": {
            "image/png": "[encoded data removed]",
            "text/plain": [
              "<Figure size 432x288 with 1 Axes>"
            ]
          },
          "metadata": {
            "tags": [],
            "needs_background": "light"
          }
        }
      ]
    },
    {
      "cell_type": "code",
      "metadata": {
        "id": "iIM_YX24pX2r",
        "outputId": "b8783d6a-bbaf-4b5a-837a-1bec64f518c7",
        "colab": {
          "base_uri": "https://localhost:8080/",
          "height": 312
        }
      },
      "source": [
        "n_card_games(n,spanishDeck)"
      ],
      "execution_count": null,
      "outputs": [
        {
          "output_type": "stream",
          "text": [
            "21 Probability:  0.1571 Average number of cards:  3.3908338637810314\n"
          ],
          "name": "stdout"
        },
        {
          "output_type": "display_data",
          "data": {
            "image/png": "[encoded data removed]",
            "text/plain": [
              "<Figure size 432x288 with 1 Axes>"
            ]
          },
          "metadata": {
            "tags": [],
            "needs_background": "light"
          }
        }
      ]
    },
    {
      "cell_type": "markdown",
      "metadata": {
        "id": "mFPqtr_83ECc"
      },
      "source": [
        "<h2>2.</h2>\n",
        "Estimate the probability of getting a 21, the average number of cards required to complete 21 and plot the experimental distribution of the number of card required to complete 21 drawing cards sequentially from a shuffled Spanish 48-card deck with card values [1,2,3,4,5,6,7,10,10,10,1,2,3,4,5,6,7,8,9,10,10,10,1,2,3,4,5,6,7,8,9,10,10,10,1,2,3,4,5,6,7,8,9,10,10,10] and from a shuffled Poker 52-card deck with card values [1,2,3,4,5,6,7,8,9,10,11,12,13,1,2,3,4,5,6,7,8,9,10,10,10,10,1,2,3,4,5,6,7,8,9,10,10,10,10,1,2,3,4,5,6,7,8,9,10,10,10,10] using Montecarlo with 10 millions simulations.\n"
      ]
    },
    {
      "cell_type": "code",
      "metadata": {
        "id": "_l5mrGDNb_q-"
      },
      "source": [
        "#Punto 2\n",
        "spanish2 = [1,2,3,4,5,6,7,8,9,10,10,10,\n",
        "            1,2,3,4,5,6,7,8,9,10,10,10,\n",
        "            1,2,3,4,5,6,7,8,9,10,10,10,\n",
        "            1,2,3,4,5,6,7,8,9,10,10,10]\n",
        "            \n",
        "poker2 = [1,2,3,4,5,6,7,8,9,10,10,10,10,\n",
        "          1,2,3,4,5,6,7,8,9,10,10,10,10,\n",
        "          1,2,3,4,5,6,7,8,9,10,10,10,10,\n",
        "          1,2,3,4,5,6,7,8,9,10,10,10,10]"
      ],
      "execution_count": null,
      "outputs": []
    },
    {
      "cell_type": "code",
      "metadata": {
        "id": "VUXII_Gy1Wq_",
        "outputId": "c26878ad-6814-4add-fdb3-08028152c574",
        "colab": {
          "base_uri": "https://localhost:8080/",
          "height": 312
        }
      },
      "source": [
        "n_card_games(n,spanish2)"
      ],
      "execution_count": null,
      "outputs": [
        {
          "output_type": "stream",
          "text": [
            "21 Probability:  0.1448 Average number of cards:  3.694060773480663\n"
          ],
          "name": "stdout"
        },
        {
          "output_type": "display_data",
          "data": {
            "image/png": "[encoded data removed]",
            "text/plain": [
              "<Figure size 432x288 with 1 Axes>"
            ]
          },
          "metadata": {
            "tags": [],
            "needs_background": "light"
          }
        }
      ]
    },
    {
      "cell_type": "code",
      "metadata": {
        "id": "DcKNCpix1bZa",
        "outputId": "69f7869d-574c-4392-bd61-8ba3c3044481",
        "colab": {
          "base_uri": "https://localhost:8080/",
          "height": 312
        }
      },
      "source": [
        "n_card_games(n,poker2)"
      ],
      "execution_count": null,
      "outputs": [
        {
          "output_type": "stream",
          "text": [
            "21 Probability:  0.1374 Average number of cards:  3.5756914119359533\n"
          ],
          "name": "stdout"
        },
        {
          "output_type": "display_data",
          "data": {
            "image/png": "[encoded data removed]",
            "text/plain": [
              "<Figure size 432x288 with 1 Axes>"
            ]
          },
          "metadata": {
            "tags": [],
            "needs_background": "light"
          }
        }
      ]
    },
    {
      "cell_type": "markdown",
      "metadata": {
        "id": "CVBa2YPH3byV"
      },
      "source": [
        "<h2>3.</h2>\n",
        "Estimate the probability of getting a 21, the average total number of cards required to complete 21 (including the three that you start with) and plot the experimental distribution of the number of card required to complete 21 with drawing cards sequentially from a shuffled Spanish 48-card deck with 3 10’s and a shuffled Poker 52-card deck with 4 10’s, assuming that you have in your hand the cards [7,7,5]ae and the remaining deck has n/2 cards. You can pick the n/2 cards in the remaining deck in whatever way you choose but with restriction that this has maximum two 7s and three 5, you have to keep the remaining deck fixed through the simulations, use Montecarlo with 10 millions simulations."
      ]
    },
    {
      "cell_type": "code",
      "metadata": {
        "id": "FejmBSNH1jEJ"
      },
      "source": [
        "#Punto 3 \n",
        "hand = [7,7,5]\n",
        "\n",
        "poker3 = [\n",
        "                    1, 2, 3, 4, 5, 6, 8, 9, 10, 11, 12, 13,\n",
        "                    1, 2, 3, 4, 5, 6, 8, 9, 10, 11, 12, 13,\n",
        "                    1, 2, 3, 4, 5, 6, 7, 8, 9, 10, 11, 12, 13,\n",
        "                    1, 2, 3, 4, 6, 7, 8, 9, 10, 11, 12, 13\n",
        "                ]\n",
        "\n",
        "spanish3 = [\n",
        "            1, 2, 3, 4, 5, 6, 8, 9, 10, 11, 12,\n",
        "            1, 2, 3, 4, 5, 6, 8, 9, 10, 11, 12,\n",
        "            1, 2, 3, 4, 5, 6, 7, 8, 9, 10, 11, 12,\n",
        "            1, 2, 3, 4, 6, 7, 8, 9, 10, 11, 12\n",
        "        ]\n",
        "\n",
        "def remove_cards(origin_deck):\n",
        "    deck = copy.deepcopy(origin_deck)\n",
        "\n",
        "    a = int((len(origin_deck)+3)/2)\n",
        "    \n",
        "    for i in range(a):\n",
        "        currentCard = r.choice(deck)\n",
        "        deck.remove(currentCard)\n",
        "    return deck\n",
        "\n",
        "\n"
      ],
      "execution_count": null,
      "outputs": []
    },
    {
      "cell_type": "code",
      "metadata": {
        "id": "RmyXQb0HJyyd",
        "outputId": "147e85a0-b189-4ef2-ae94-eecf5583210a",
        "colab": {
          "base_uri": "https://localhost:8080/",
          "height": 312
        }
      },
      "source": [
        "n_card_games(n,poker3,hand,remove_cards)"
      ],
      "execution_count": null,
      "outputs": [
        {
          "output_type": "stream",
          "text": [
            "21 Probability:  0.0882 Average number of cards:  1.0759637188208617\n"
          ],
          "name": "stdout"
        },
        {
          "output_type": "display_data",
          "data": {
            "image/png": "[encoded data removed]",
            "text/plain": [
              "<Figure size 432x288 with 1 Axes>"
            ]
          },
          "metadata": {
            "tags": [],
            "needs_background": "light"
          }
        }
      ]
    },
    {
      "cell_type": "code",
      "metadata": {
        "id": "noep9SLRM-eQ",
        "outputId": "bdc5c3a5-1b4c-4769-f703-10df7ef30b22",
        "colab": {
          "base_uri": "https://localhost:8080/",
          "height": 312
        }
      },
      "source": [
        "n_card_games(n,spanish3 ,hand,remove_cards)"
      ],
      "execution_count": null,
      "outputs": [
        {
          "output_type": "stream",
          "text": [
            "21 Probability:  0.0945 Average number of cards:  1.0571428571428572\n"
          ],
          "name": "stdout"
        },
        {
          "output_type": "display_data",
          "data": {
            "image/png": "[encoded data removed]",
            "text/plain": [
              "<Figure size 432x288 with 1 Axes>"
            ]
          },
          "metadata": {
            "tags": [],
            "needs_background": "light"
          }
        }
      ]
    },
    {
      "cell_type": "markdown",
      "metadata": {
        "id": "xgaulZWBhGLQ"
      },
      "source": [
        "<h2>4.</h2>\n",
        "Find two remaining decks with 8 cards for a Spanish 48-card deck with 3 10’s and for a Poker 52-card deck with 4 10’s; one remaining deck with 8 cards that has the highest probability of getting 21 (hot deck) and the other remaining deck with 8 cards that has the lowest probability of getting 21(cold deck). "
      ]
    },
    {
      "cell_type": "code",
      "metadata": {
        "id": "ACfpAEKJhFTx"
      },
      "source": [
        "#given an n iterations and a deck returns a hot deck (hot =True) or cold deck (hot =False) \n",
        "#also you can provide the hand to calculate it and funky (function to modify the deck)\n",
        "\n",
        "def sub_decks(n, origin_deck, hand=[], funky= nothing, hot=True):\n",
        "    count = 0\n",
        "    average = 0\n",
        "    success = []\n",
        "    cardsDict = {}\n",
        "    set_deck = set(origin_deck)\n",
        "    for i in set_deck:\n",
        "        cardsDict[str(i)] = 0\n",
        " \n",
        "    for i in range(n):\n",
        "        deck = copy.deepcopy(origin_deck)\n",
        "        deck = funky(deck)\n",
        "        drawCards = copy.deepcopy(hand)    \n",
        "        carto = [0 for i in set_deck]\n",
        "        \n",
        "        while sum(drawCards) < 21:\n",
        "            currentCard = r.choice(deck)\n",
        "            drawCards.append(currentCard)\n",
        "            carto[currentCard-1]+= 1\n",
        "            deck.remove(currentCard)\n",
        "\n",
        "\n",
        "        if sum(drawCards) == 21:\n",
        "            for i in range(len(carto)):\n",
        "                cardsDict[str(i+1)]+= carto[i]\n",
        "        sorta = sorted(cardsDict.items(), key=lambda x:x[1], reverse=hot)\n",
        "        result = []\n",
        "        for i in range(4):\n",
        "            result.append(int(sorta[i][0]))\n",
        "            result.append(int(sorta[i][0]))\n",
        "\n",
        "    return result"
      ],
      "execution_count": null,
      "outputs": []
    },
    {
      "cell_type": "code",
      "metadata": {
        "id": "EcVN5YetGmEL",
        "outputId": "1696568f-2085-4ea5-a243-6698e9ff331c",
        "colab": {
          "base_uri": "https://localhost:8080/",
          "height": 86
        }
      },
      "source": [
        "hotDeckSpanish= sub_decks(10000,spanish2)\n",
        "hotDeckPoker=   sub_decks(10000,poker2)\n",
        "coldDeckSpanish=sub_decks(10000,spanish2,hot=False)\n",
        "coldDeckPoker=sub_decks(10000,poker2,hot=False)\n",
        "print(hotDeckSpanish)\n",
        "print(hotDeckPoker)\n",
        "print(coldDeckSpanish)\n",
        "print(coldDeckPoker)"
      ],
      "execution_count": null,
      "outputs": [
        {
          "output_type": "stream",
          "text": [
            "[10, 10, 1, 1, 2, 2, 3, 3]\n",
            "[10, 10, 1, 1, 2, 2, 3, 3]\n",
            "[9, 9, 8, 8, 7, 7, 6, 6]\n",
            "[8, 8, 9, 9, 7, 7, 6, 6]\n"
          ],
          "name": "stdout"
        }
      ]
    },
    {
      "cell_type": "markdown",
      "metadata": {
        "id": "jN69tTAngvCJ"
      },
      "source": [
        "Assuming that you have in your hand the cards [7,7,5], calculate analytically the probabilities of getting a 21 for both the hot an cold deck, estimate this probabilities of getting a 21, the average total number of cards required to complete 21 (including the three that you start with) and plot the experimental distribution of the total number of card required to complete 21 (including the three that you start with) using Montecarlo with 10 millions simulations."
      ]
    },
    {
      "cell_type": "code",
      "metadata": {
        "id": "iU-yUByhVyXJ"
      },
      "source": [
        "def factorial(n):\n",
        "    if n == 0:\n",
        "        return 1\n",
        "    return n*factorial(n-1)"
      ],
      "execution_count": null,
      "outputs": []
    },
    {
      "cell_type": "code",
      "metadata": {
        "id": "mIHkQbPnO2F1",
        "outputId": "072c82b2-91d9-46d5-a742-c6c5a43c691f",
        "colab": {
          "base_uri": "https://localhost:8080/",
          "height": 34
        }
      },
      "source": [
        "#with a hand=[7,7,5] you can get 21 only by drawing one or two cards\n",
        "#probability of getting 21 with one card\n",
        "p1 = 2/8\n",
        "#probability of geting 21 with one card before drawing one card\n",
        "p2 = (2/8)*(1/7)\n",
        "#probability of success\n",
        "pt = p1+p2\n",
        "pt"
      ],
      "execution_count": null,
      "outputs": [
        {
          "output_type": "execute_result",
          "data": {
            "text/plain": [
              "0.2857142857142857"
            ]
          },
          "metadata": {
            "tags": []
          },
          "execution_count": 36
        }
      ]
    },
    {
      "cell_type": "code",
      "metadata": {
        "id": "pvVg_AzZYcFX",
        "outputId": "b8dea605-5a37-4f96-9f82-18e623763c72",
        "colab": {
          "base_uri": "https://localhost:8080/",
          "height": 312
        }
      },
      "source": [
        "n_card_games(n,hotDeckSpanish,hand)"
      ],
      "execution_count": null,
      "outputs": [
        {
          "output_type": "stream",
          "text": [
            "21 Probability:  0.2883 Average number of cards:  1.1210544571626777\n"
          ],
          "name": "stdout"
        },
        {
          "output_type": "display_data",
          "data": {
            "image/png": "[encoded data removed]",
            "text/plain": [
              "<Figure size 432x288 with 1 Axes>"
            ]
          },
          "metadata": {
            "tags": [],
            "needs_background": "light"
          }
        }
      ]
    },
    {
      "cell_type": "code",
      "metadata": {
        "id": "8D5Y9WyAdI3C",
        "outputId": "ecfb1e7c-c4a9-41a4-8642-ee55eb620e8c",
        "colab": {
          "base_uri": "https://localhost:8080/",
          "height": 312
        }
      },
      "source": [
        "n_card_games(n,hotDeckPoker,hand)"
      ],
      "execution_count": null,
      "outputs": [
        {
          "output_type": "stream",
          "text": [
            "21 Probability:  0.29 Average number of cards:  1.1217241379310345\n"
          ],
          "name": "stdout"
        },
        {
          "output_type": "display_data",
          "data": {
            "image/png": "[encoded data removed]",
            "text/plain": [
              "<Figure size 432x288 with 1 Axes>"
            ]
          },
          "metadata": {
            "tags": [],
            "needs_background": "light"
          }
        }
      ]
    },
    {
      "cell_type": "code",
      "metadata": {
        "id": "St2kW365Yjwq",
        "outputId": "8cad760a-ed22-4ef2-8050-f041718a8d0f",
        "colab": {
          "base_uri": "https://localhost:8080/",
          "height": 312
        }
      },
      "source": [
        "n_card_games(n,coldDeckPoker,hand)"
      ],
      "execution_count": null,
      "outputs": [
        {
          "output_type": "stream",
          "text": [
            "21 Probability:  0.0 Average number of cards:  0\n"
          ],
          "name": "stdout"
        },
        {
          "output_type": "display_data",
          "data": {
            "image/png": "[encoded data removed]",
            "text/plain": [
              "<Figure size 432x288 with 1 Axes>"
            ]
          },
          "metadata": {
            "tags": [],
            "needs_background": "light"
          }
        }
      ]
    },
    {
      "cell_type": "code",
      "metadata": {
        "id": "-tykOO9AY4XF",
        "outputId": "90c00bc3-a879-4ead-ec4f-8d24dceffd67",
        "colab": {
          "base_uri": "https://localhost:8080/",
          "height": 312
        }
      },
      "source": [
        "n_card_games(n,coldDeckSpanish,hand)"
      ],
      "execution_count": null,
      "outputs": [
        {
          "output_type": "stream",
          "text": [
            "21 Probability:  0.0 Average number of cards:  0\n"
          ],
          "name": "stdout"
        },
        {
          "output_type": "display_data",
          "data": {
            "image/png": "[encoded data removed]",
            "text/plain": [
              "<Figure size 432x288 with 1 Axes>"
            ]
          },
          "metadata": {
            "tags": [],
            "needs_background": "light"
          }
        }
      ]
    },
    {
      "cell_type": "markdown",
      "metadata": {
        "id": "V7BBiS5VHy48"
      },
      "source": [
        "<h2>5.</h2>\n",
        "Estimate the average amount of money (expected value) that Ben wins or losses on a weekend if Ben goes to Vegas every weekend (Friday, Saturday and Sunday), plays every weekend day 10 hours, each game takes 3 mins. \n",
        "\n",
        "Assume that for each game he gets two possibilities, in one he gets in his hand the cards [7,7,5] and a remaining hot deck with 8 cards in which case he bets \\$1000 this happens with probability 1/10; \n",
        "\n",
        "In the other one he gets no cards in his hand a complete shuffled deck in which case he bets \\$10, this happens with the remaining probability 9/10. Use 10000 Montecarlo simulations to estimated the expected amount of money that Ben wins or losses on a weekend for a Spanish 48-card deck with 3 10’s and for a Poker 52-card deck with 4 10’s."
      ]
    },
    {
      "cell_type": "code",
      "metadata": {
        "id": "UJQ8piwMibXM"
      },
      "source": [
        "def gains(n, origin_deck, hand, hotDeck):\n",
        "    gains = 0\n",
        "    for i in range(n):\n",
        "\n",
        "        x= r.randint(1,10)\n",
        "        \n",
        "        if x==1:\n",
        "            deck = copy.deepcopy(hotDeck)\n",
        "            drawCards = copy.deepcopy(hand)\n",
        "            mount = 1000\n",
        "        else:\n",
        "            deck = copy.deepcopy(origin_deck)\n",
        "            drawCards = []\n",
        "            mount = 10\n",
        "\n",
        "        while sum(drawCards) < 21:\n",
        "            currentCard = r.choice(deck)\n",
        "            drawCards.append(currentCard)\n",
        "            deck.remove(currentCard)\n",
        "\n",
        "        if sum(drawCards) == 21:\n",
        "            gains += mount\n",
        "        else:\n",
        "            gains -= mount\n",
        "    return gains"
      ],
      "execution_count": null,
      "outputs": []
    },
    {
      "cell_type": "code",
      "metadata": {
        "id": "ke4WF6eIahE0",
        "outputId": "a9df85b5-c2b6-4e1e-f726-e7520f106fe9",
        "colab": {
          "base_uri": "https://localhost:8080/",
          "height": 34
        }
      },
      "source": [
        "#600 games * 10000 montcarlo iterations = 6000000 \n",
        "# the result of 6000000 iterations get divided by 10000 to get an estimation\n",
        "gains(6000000,spanish2,hand,hotDeckSpanish)/10000"
      ],
      "execution_count": null,
      "outputs": [
        {
          "output_type": "execute_result",
          "data": {
            "text/plain": [
              "-12690.0"
            ]
          },
          "metadata": {
            "tags": []
          },
          "execution_count": 52
        }
      ]
    },
    {
      "cell_type": "code",
      "metadata": {
        "id": "Zyjla9kmmWdx",
        "outputId": "4646f3e1-f541-428f-fc24-62f6f08e82a8",
        "colab": {
          "base_uri": "https://localhost:8080/",
          "height": 34
        }
      },
      "source": [
        "gains(6000000,poker2,hand,hotDeckPoker)/10000"
      ],
      "execution_count": null,
      "outputs": [
        {
          "output_type": "execute_result",
          "data": {
            "text/plain": [
              "-25330"
            ]
          },
          "metadata": {
            "tags": []
          },
          "execution_count": 49
        }
      ]
    }
  ]
}